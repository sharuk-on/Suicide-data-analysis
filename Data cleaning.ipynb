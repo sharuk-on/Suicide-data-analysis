{
 "cells": [
  {
   "cell_type": "code",
   "execution_count": 1,
   "id": "3b47b3c7-ee42-41ad-bc25-17f43e965373",
   "metadata": {},
   "outputs": [],
   "source": [
    "import pandas as pd"
   ]
  },
  {
   "cell_type": "markdown",
   "id": "f48242e5-3cf2-4d91-a097-2fec709ce594",
   "metadata": {
    "tags": []
   },
   "source": [
    "# Functions"
   ]
  },
  {
   "cell_type": "code",
   "execution_count": 2,
   "id": "ecffc9ab-0225-4518-9837-331bd7021368",
   "metadata": {},
   "outputs": [],
   "source": [
    "# Standardizing values\n",
    "def state(x):\n",
    "    if 'A & n islands' == x or 'A and n islands' == x:\n",
    "        return 'Andaman and nicobar'\n",
    "    elif 'D & n haveli' == x or 'D&n haveli' == x or 'Dandn haveli' == x:\n",
    "        return 'Dadra and nagar haveli'\n",
    "    elif 'Daman & diu' == x:\n",
    "        return 'Daman and diu'\n",
    "    elif 'Delhi (ut)' == x or 'Delhi ut' == x:\n",
    "        return 'Delhi'\n",
    "    elif 'Jammu & kashmir' == x:\n",
    "        return 'Jammu and kashmir'\n",
    "    else:\n",
    "        return x"
   ]
  },
  {
   "cell_type": "code",
   "execution_count": 3,
   "id": "ad5df07a-ef21-4288-8ce2-562e11981898",
   "metadata": {},
   "outputs": [],
   "source": [
    "# This column represent administration type of the region (state/Union territory)\n",
    "ut = ['Andaman and nicobar', 'Chandigarh', 'Dadra and nagar haveli', 'Daman and diu', 'Delhi', 'Jammu and kashmir', 'Puducherry', 'Lakshadweep']\n",
    "\n",
    "\n",
    "def administration(x):\n",
    "    if x in ut:\n",
    "        return 'UT'\n",
    "    else:\n",
    "        return 'State'"
   ]
  },
  {
   "cell_type": "code",
   "execution_count": 4,
   "id": "1e39dca0-f324-4223-a661-b31d683e977a",
   "metadata": {},
   "outputs": [],
   "source": [
    "col_order = [0, -1, 1, 2, 3, 4, 5]"
   ]
  },
  {
   "cell_type": "markdown",
   "id": "c0391de6-0f41-4b40-94e3-b83d93b8f165",
   "metadata": {},
   "source": [
    "# Educational status of the victims"
   ]
  },
  {
   "cell_type": "markdown",
   "id": "c6f4d408-1b5a-4e77-9572-e7692d73ab21",
   "metadata": {
    "tags": []
   },
   "source": [
    "#### Creating dataframes"
   ]
  },
  {
   "cell_type": "code",
   "execution_count": 5,
   "id": "4a8965c1-8e61-4d5b-b793-5056b6ed1734",
   "metadata": {},
   "outputs": [],
   "source": [
    "edu_decade = pd.read_csv(r\"D:\\Course\\Python\\Suicide Data analysis\\Raw data\\Educational_status.csv\")\n",
    "edu_2013 = pd.read_csv(r\"D:\\Course\\Python\\Suicide Data analysis\\Raw data\\Educational_status_2013.csv\")\n",
    "edu_2014 = pd.read_csv(r\"D:\\Course\\Python\\Suicide Data analysis\\Raw data\\Educational_status_2014.csv\")"
   ]
  },
  {
   "cell_type": "markdown",
   "id": "abc46b12-d50d-4aa2-bc48-e6be1e3fa35c",
   "metadata": {
    "tags": []
   },
   "source": [
    "#### Removing unwanted column"
   ]
  },
  {
   "cell_type": "markdown",
   "id": "0a20f7b1-bce2-40d5-b7e0-eafc7530c3bf",
   "metadata": {},
   "source": [
    "**Since transgender data only avaliable for a year(2014), we are going to\n",
    "neglect transgender data.** "
   ]
  },
  {
   "cell_type": "code",
   "execution_count": 6,
   "id": "5b98afe3-e05f-4317-950c-dac81d16a2f7",
   "metadata": {},
   "outputs": [],
   "source": [
    "edu_2014[\"New Total\"] = edu_2014.Total-edu_2014.Transgender\n",
    "\n",
    "del edu_2014[\"Transgender\"]\n",
    "del edu_2014[\"Total\"]"
   ]
  },
  {
   "cell_type": "markdown",
   "id": "91eba423-291c-4fdb-aa66-680817bd21de",
   "metadata": {},
   "source": [
    "#### Standardizing column name accross dataframes"
   ]
  },
  {
   "cell_type": "code",
   "execution_count": 7,
   "id": "9a1882d0-41a3-432b-aab2-9cca951afbe9",
   "metadata": {},
   "outputs": [],
   "source": [
    "edu_col = [\"state/ut\", \"year\", \"educational status\", \"male\", \"female\", \"total\"]\n",
    "\n",
    "edu_decade.columns = edu_col\n",
    "edu_2013.columns = edu_col\n",
    "edu_2014.columns = edu_col"
   ]
  },
  {
   "cell_type": "markdown",
   "id": "2f0e31f2-a2ae-4f9b-8730-b90d6f9d3ffb",
   "metadata": {},
   "source": [
    "#### Combining dataframes and resetting index"
   ]
  },
  {
   "cell_type": "code",
   "execution_count": 8,
   "id": "566147e1-a6a1-4ab6-83ba-5a2d45289b98",
   "metadata": {},
   "outputs": [],
   "source": [
    "edu = pd.concat([edu_decade, edu_2013, edu_2014]).reset_index(drop=True)"
   ]
  },
  {
   "cell_type": "markdown",
   "id": "fe15b2f9-a1dd-4fee-bca0-70c50e24db57",
   "metadata": {},
   "source": [
    "#### Cleaning \"state/ut\" column"
   ]
  },
  {
   "cell_type": "code",
   "execution_count": 9,
   "id": "21c9038e-97cd-4d90-b31a-18c8cd423952",
   "metadata": {},
   "outputs": [],
   "source": [
    "# Capitalizing values\n",
    "edu[\"state/ut\"] = edu[\"state/ut\"].apply([lambda x: x.capitalize()])\n",
    "\n",
    "# Applying Function\n",
    "edu[\"state/ut\"] = edu[\"state/ut\"].apply(lambda x: state(x))\n",
    "\n",
    "# Removing unwanted values\n",
    "edu = edu[~edu['state/ut'].isin(['Total (all india)', 'Total (states)', 'Total (uts)'])]"
   ]
  },
  {
   "cell_type": "markdown",
   "id": "e704ff26-2dba-4b17-ac62-44a5b2583550",
   "metadata": {},
   "source": [
    "#### Cleaning \"educational status\" column"
   ]
  },
  {
   "cell_type": "code",
   "execution_count": 10,
   "id": "0b5f075d-3763-4369-95a3-52196d8b3a77",
   "metadata": {},
   "outputs": [],
   "source": [
    "# Standardizing values\n",
    "def edu_status(x):\n",
    "    if 'Diploma/ITI/Certificate' == x:\n",
    "        return 'Diploma'\n",
    "    elif 'Graduate and above' == x:\n",
    "        return 'Graduate'\n",
    "    elif 'Hr. Secondary/Intermediate/Pre-University' == x or 'Higher Secondary/ Intermediate/ Pre-University (upto class-12)' == x or 'Hr. Secondary/Intermediate/Pre-Universit'== x:\n",
    "        return 'Hr. Secondary'\n",
    "    elif 'Matriculate/Secondary (upto class-10)' == x or 'Matriculate/Secondary' == x:\n",
    "        return 'Secondary'\n",
    "    elif 'Middle (upto class-8)' == x:\n",
    "        return 'Middle'\n",
    "    elif 'Primary (upto class-5)' == x:\n",
    "        return 'Primary'\n",
    "    elif 'Professionals (MBA; etc.)' == x:\n",
    "        return 'Post Graduate and Above'\n",
    "    else:\n",
    "        return x\n",
    "\n",
    "\n",
    "edu['educational status'] = edu['educational status'].apply(lambda x: edu_status(x))\n",
    "\n",
    "# Removing unwanted values\n",
    "edu = edu[edu['educational status'] != \"Total\"]"
   ]
  },
  {
   "cell_type": "markdown",
   "id": "34dd54c8-d816-4fa5-aaa7-70ec4f402fb3",
   "metadata": {},
   "source": [
    "#### Creating new column"
   ]
  },
  {
   "cell_type": "code",
   "execution_count": 11,
   "id": "aafb17a1-30fc-4361-b845-85330da09ed0",
   "metadata": {},
   "outputs": [],
   "source": [
    "# Applying function\n",
    "edu = edu.assign(administration = edu['state/ut'].apply(lambda x: administration(x)))"
   ]
  },
  {
   "cell_type": "markdown",
   "id": "5a669c08-20a3-46da-b144-2a6609032319",
   "metadata": {},
   "source": [
    "#### Rearranging and renaming columns, sorting values and resetting index"
   ]
  },
  {
   "cell_type": "code",
   "execution_count": 12,
   "id": "103b1e1f-dcd7-49e0-8d01-c882b391bea0",
   "metadata": {},
   "outputs": [],
   "source": [
    "edu = edu[edu.columns[col_order]]\n",
    "\n",
    "edu = edu.sort_values(['state/ut', 'year'], ascending=[True, True])\n",
    "\n",
    "edu = edu.reset_index(drop=True)\n",
    "\n",
    "edu.columns = ['State/UT', 'Administration', 'Year', 'Educational status', 'Male', 'Female', 'Total']"
   ]
  },
  {
   "cell_type": "code",
   "execution_count": null,
   "id": "7fd41248-5a82-41c7-a7bc-b74281faedd9",
   "metadata": {},
   "outputs": [],
   "source": []
  },
  {
   "cell_type": "markdown",
   "id": "bd7c48b7-aa60-4c36-80bc-42c94e4fe6a9",
   "metadata": {},
   "source": [
    "# Cause"
   ]
  },
  {
   "cell_type": "markdown",
   "id": "1972647c-040a-4426-8783-2582c5a21dca",
   "metadata": {},
   "source": [
    "#### Creating dataframes"
   ]
  },
  {
   "cell_type": "code",
   "execution_count": 5,
   "id": "d938dcc1-31e6-4469-809f-ab3f96656359",
   "metadata": {},
   "outputs": [],
   "source": [
    "cause_decade = pd.read_csv(r\"D:\\Course\\Python\\Suicide Data analysis\\Raw data\\causes.csv\")\n",
    "cause_2013 = pd.read_csv(r\"D:\\Course\\Python\\Suicide Data analysis\\Raw data\\causes_2013.csv\")\n",
    "cause_2014 = pd.read_csv(r\"D:\\Course\\Python\\Suicide Data analysis\\Raw data\\Causes_2014.csv\", encoding='latin1')"
   ]
  },
  {
   "cell_type": "markdown",
   "id": "8f4c25b7-bc3b-4dfa-b515-f8d42c1816eb",
   "metadata": {},
   "source": [
    "#### Keeping required columns"
   ]
  },
  {
   "cell_type": "code",
   "execution_count": 6,
   "id": "e04c90a4-3b22-4f91-a8c2-17a1e65d7333",
   "metadata": {},
   "outputs": [],
   "source": [
    "cause_1 = cause_decade[cause_decade.columns[cause_decade.columns.isin(['STATE/UT', 'Year', 'CAUSE', 'Total Male', 'Total Female', 'Grand Total'])]]\n",
    "cause_2 = cause_2013[cause_2013.columns[cause_2013.columns.isin(['STATE/UT', 'Year', 'CAUSE', 'Total Male', 'Total Female', 'Grand Total'])]]\n",
    "cause_3 = cause_2014[cause_2014.columns[cause_2014.columns.isin(['States/UTs', 'Year', 'CrimeHead', 'Male_Total', 'Female_Total', 'Transgender_Total', 'Grand Total'])]]"
   ]
  },
  {
   "cell_type": "markdown",
   "id": "8fc3afa4-5bc2-4c18-a340-972316078fc0",
   "metadata": {},
   "source": [
    "#### Removing unwanted columns"
   ]
  },
  {
   "cell_type": "code",
   "execution_count": 7,
   "id": "97a9d528-1eb8-421b-91ab-cd98ccf8a170",
   "metadata": {},
   "outputs": [],
   "source": [
    "cause_3 = cause_3.assign(Total=cause_3.loc[:, 'Grand Total']-cause_3.loc[:, 'Transgender_Total'])\n",
    "\n",
    "cause_3.drop(['Transgender_Total', 'Grand Total'], axis=1, inplace=True)"
   ]
  },
  {
   "cell_type": "markdown",
   "id": "8da50ae1-2387-42c2-bc8d-87ec76dd2b66",
   "metadata": {},
   "source": [
    "#### Standardizing column's name"
   ]
  },
  {
   "cell_type": "code",
   "execution_count": 8,
   "id": "4646829a-7d4e-4744-9cb0-d423862b0af1",
   "metadata": {},
   "outputs": [],
   "source": [
    "cause_cols = ['state/ut', 'year', 'cause', 'male', 'female', 'total']\n",
    "\n",
    "cause_1.columns = cause_cols\n",
    "cause_2.columns = cause_cols\n",
    "cause_3.columns = cause_cols"
   ]
  },
  {
   "cell_type": "markdown",
   "id": "b86514d1-f820-4de6-9e6c-d4f08f2149bc",
   "metadata": {},
   "source": [
    "#### Concatenating DataFrames and resetting index"
   ]
  },
  {
   "cell_type": "code",
   "execution_count": 9,
   "id": "6a108a60-b4ea-445a-b927-3d626dd62c67",
   "metadata": {},
   "outputs": [],
   "source": [
    "cause = pd.concat([cause_1, cause_2, cause_3])\n",
    "\n",
    "cause.reset_index(drop=True, inplace=True)"
   ]
  },
  {
   "cell_type": "markdown",
   "id": "63996d08-095e-4871-a3a4-6f6d953a99f6",
   "metadata": {},
   "source": [
    "#### Filling in null values and formatting datatype"
   ]
  },
  {
   "cell_type": "code",
   "execution_count": 10,
   "id": "fe088f10-9c53-45c7-af09-45f2d88caadd",
   "metadata": {},
   "outputs": [],
   "source": [
    "cause['total'].fillna(0, inplace=True)\n",
    "\n",
    "cause['total'] = cause['total'].astype('int64')"
   ]
  },
  {
   "cell_type": "markdown",
   "id": "38efcfcf-d36a-4f3a-b750-eedf7ac70a52",
   "metadata": {},
   "source": [
    "#### Cleaning 'State/UT' column"
   ]
  },
  {
   "cell_type": "code",
   "execution_count": 11,
   "id": "3f762641-b58e-4f50-be10-d102a65bb97c",
   "metadata": {},
   "outputs": [],
   "source": [
    "cause['state/ut'] = cause['state/ut'].apply(lambda x: x.capitalize())\n",
    "\n",
    "cause['state/ut'] = cause['state/ut'].apply(lambda x: state(x))\n",
    "\n",
    "cause = cause[~cause['state/ut'].isin(['Total (all india)', 'Total (states)', 'Total (uts)'])]"
   ]
  },
  {
   "cell_type": "markdown",
   "id": "eda65675-21f4-4c6e-a8db-b0bef9b54aa7",
   "metadata": {},
   "source": [
    "#### Cleaning 'Causes' column"
   ]
  },
  {
   "cell_type": "code",
   "execution_count": 12,
   "id": "582df6fd-c6be-4f10-b93d-47816d546a5a",
   "metadata": {},
   "outputs": [],
   "source": [
    "def causes(x):\n",
    "    if x == 'Bankruptcy or Sudden change in Economic' or x == 'Bankruptcy or indebtedness' or x == 'Bankruptcy or Sudden change in Economic Status':\n",
    "        return 'Bankruptcy'\n",
    "    elif x == 'Death of Dear Person' or x == 'Death of dear person':\n",
    "        return 'Death of Dear Person'\n",
    "    elif x == 'Dowry Related Issues':\n",
    "        return 'Dowry Dispute'\n",
    "    elif x == 'Drug abuse/addiction':\n",
    "        return 'Drug Abuse/Addiction'\n",
    "    elif x == 'Fall in social reputation':\n",
    "        return 'Fall in Social Reputation'\n",
    "    elif x == 'Ideological causes/Hero worshipping':\n",
    "        return 'Ideological Causes/Hero Worshipping'\n",
    "    elif x == 'Illness (Aids/STD)':\n",
    "        return 'AIDS/STD'\n",
    "    elif x == 'Insanity/Mental illness':\n",
    "        return 'Insanity/Mental Illness'\n",
    "    elif x == 'Love affairs':\n",
    "        return 'Love Affairs'\n",
    "    elif x == 'Not having Children (Barrenness/Impotency' or x == 'Not having Children(Barrenness/Impotency' :\n",
    "        return 'Impotency/Infertility'\n",
    "    elif x == 'Other prolonged illness' or x == 'Other Prolonged Illness':\n",
    "        return 'Prolonged Illness'\n",
    "    elif x == 'Other Causes (Please Specity)' or x == 'Other causes':\n",
    "        return 'Others'\n",
    "    elif x == 'Causes Not known' or x == 'Causes not known':\n",
    "        return 'Others'\n",
    "    elif x == 'Physical Abuse (Rape,Incest Etc.)' or x == 'Physical Abuse (Rape; etc.)' :\n",
    "        return 'Physical Abuse (Rape,Incest Etc.)'\n",
    "    elif x == 'Property dispute':\n",
    "        return 'Property Dispute'\n",
    "    elif x == 'Extra Marital affairs' or x == 'Suspected/Illicit relation':\n",
    "        return 'Suspected/Illicit Relation'\n",
    "    elif x == 'Other Family problems' or x == 'Marriage Related Issues':\n",
    "        return 'Family Problems'\n",
    "    elif x == 'Non Settlement of Marriage':\n",
    "        return 'Cancellation/Non-Settlement of Marriage'\n",
    "    else:\n",
    "        return x\n",
    "\n",
    "\n",
    "cause['cause'] = cause['cause'].apply(lambda x: causes(x))\n",
    "\n",
    "# Removing unwanted values\n",
    "cause = cause[~cause['cause'].isin(['Total', 'Total Illness', 'Illness'])]"
   ]
  },
  {
   "cell_type": "markdown",
   "id": "f60197f7-ffb3-402f-947b-b4c0414544f8",
   "metadata": {},
   "source": [
    "#### Creating New column"
   ]
  },
  {
   "cell_type": "code",
   "execution_count": 13,
   "id": "4b58d108-87d3-4e42-93b5-c1603f3cde47",
   "metadata": {},
   "outputs": [],
   "source": [
    "cause = cause.assign(administration = cause['state/ut'].apply(lambda x: administration(x)))"
   ]
  },
  {
   "cell_type": "markdown",
   "id": "64ecaeea-9056-4675-a423-c6257a170957",
   "metadata": {},
   "source": [
    "#### Rearranging and renaming columns, sorting values and resetting index"
   ]
  },
  {
   "cell_type": "code",
   "execution_count": 14,
   "id": "177df0af-6ded-42c4-a22c-3c7c8cffe13e",
   "metadata": {},
   "outputs": [],
   "source": [
    "cause = cause[cause.columns[col_order]]\n",
    "\n",
    "cause = cause.sort_values(['state/ut', 'year'], ascending=[True, True])\n",
    "\n",
    "cause = cause.reset_index(drop=True)\n",
    "\n",
    "cause.columns = ['State/UT', 'Administration', 'Year', 'Cause', 'Male', 'Female', 'Total']"
   ]
  },
  {
   "cell_type": "code",
   "execution_count": null,
   "id": "8c910b15-0f17-4dab-93a5-ef6bdc440da7",
   "metadata": {},
   "outputs": [],
   "source": []
  },
  {
   "cell_type": "markdown",
   "id": "a393a035-5922-41d4-8a08-5502c3eee45d",
   "metadata": {},
   "source": [
    "# Means adopted by victims"
   ]
  },
  {
   "cell_type": "markdown",
   "id": "927f3112-78a2-4d6a-853f-63cafc7b312b",
   "metadata": {},
   "source": [
    "**For this category we ignore year 2014 data. Since, the data categorization in \"Means adopted\" field in 2014 data is vastly different from rest of the data (\"Means adopted\", 2001-2013)**"
   ]
  },
  {
   "cell_type": "markdown",
   "id": "09113d93-f3f0-4a28-96fa-f53bdd986c06",
   "metadata": {},
   "source": [
    "#### Creating dataframes"
   ]
  },
  {
   "cell_type": "code",
   "execution_count": 5,
   "id": "fcd63ad1-7a7d-4a40-8142-9652ac38bd94",
   "metadata": {},
   "outputs": [],
   "source": [
    "means_decade = pd.read_csv(r'D:\\Course\\Python\\Suicide Data analysis\\Raw data\\Means_adopted.csv')\n",
    "means_2013 = pd.read_csv(r'D:\\Course\\Python\\Suicide Data analysis\\Raw data\\Means_adopted_2013.csv')"
   ]
  },
  {
   "cell_type": "markdown",
   "id": "77b1a2af-8e6d-49af-bb60-109e292aeeab",
   "metadata": {},
   "source": [
    "#### Keeping required columns"
   ]
  },
  {
   "cell_type": "code",
   "execution_count": 6,
   "id": "e47b9c32-93a5-4662-903c-03f628de5b6d",
   "metadata": {},
   "outputs": [],
   "source": [
    "means_1 = means_decade[means_decade.columns[means_decade.columns.isin(['STATE/UT', 'Year', 'CAUSE', 'Total Male', 'Total Female', 'Grand Total'])]]\n",
    "means_2 = means_2013[means_2013.columns[means_2013.columns.isin(['STATE/UT', 'Year', 'CAUSE', 'Total Male', 'Total Female', 'Grand Total'])]]"
   ]
  },
  {
   "cell_type": "markdown",
   "id": "b2fbadcd-b87e-4954-8989-480bd62446b7",
   "metadata": {},
   "source": [
    "#### Standardizing column's name"
   ]
  },
  {
   "cell_type": "code",
   "execution_count": 7,
   "id": "f423cb4e-9bb3-4ce3-917d-609b2453c508",
   "metadata": {},
   "outputs": [],
   "source": [
    "means_cols = ['state/ut', 'year', 'means', 'male', 'female', 'total']\n",
    "\n",
    "means_1.columns = means_cols\n",
    "means_2.columns = means_cols"
   ]
  },
  {
   "cell_type": "markdown",
   "id": "0cbc6eaa-85c8-4e7f-82d8-e3dcdb99c142",
   "metadata": {},
   "source": [
    "#### Concatenating DataFrames and resetting index"
   ]
  },
  {
   "cell_type": "code",
   "execution_count": 8,
   "id": "c1a36807-031d-494c-b2fa-e16387149749",
   "metadata": {},
   "outputs": [],
   "source": [
    "means = pd.concat([means_1, means_2])\n",
    "\n",
    "means.reset_index(drop=True, inplace=True)"
   ]
  },
  {
   "cell_type": "markdown",
   "id": "58a5b980-6670-4936-a940-f2448543f985",
   "metadata": {},
   "source": [
    "#### Cleaning 'State/UT' column"
   ]
  },
  {
   "cell_type": "code",
   "execution_count": 9,
   "id": "6265502b-b773-428c-80a7-4b363ab76951",
   "metadata": {},
   "outputs": [],
   "source": [
    "means['state/ut'] = means['state/ut'].apply(lambda x: x.capitalize())\n",
    "\n",
    "means['state/ut'] = means['state/ut'].apply(lambda x: state(x))\n",
    "\n",
    "means = means[~means['state/ut'].isin(['Total (all india)', 'Total (states)', 'Total (uts)'])]"
   ]
  },
  {
   "cell_type": "markdown",
   "id": "72e9bfbf-aa65-4bc2-bd43-542138f404d7",
   "metadata": {},
   "source": [
    "#### Cleaning 'Means' column"
   ]
  },
  {
   "cell_type": "code",
   "execution_count": 10,
   "id": "5a449cc4-90ef-456d-82be-c1826c6819c0",
   "metadata": {},
   "outputs": [],
   "source": [
    "def mean(x):\n",
    "    if x == 'By coming under running vehicles/trains':\n",
    "        return 'By Coming under running vehicles/trains'\n",
    "    elif x == 'By Consuming other Poison':\n",
    "        return 'By Consuming Other Poison'\n",
    "    elif x == 'By Fire-Arms':\n",
    "        return 'By Firearms'\n",
    "    elif x == 'By Jumping off moving trains/vehicles':\n",
    "        return 'By Jumping off Moving Vehicles/Trains'\n",
    "    elif x == 'By Other means (please specify)' or x == 'By Jumping from':\n",
    "        return 'By Other means'\n",
    "    elif x == 'By Self inflicting  Injury':\n",
    "        return 'By Self Infliction of injury'\n",
    "    elif x == 'By consuming Sleeping Pills' or x == 'By Overdose of sleeping pills':\n",
    "        return 'By Consuming Sleeping Pills'\n",
    "    elif x == 'By touching electric wires':\n",
    "        return 'By touching electric wire' \n",
    "    elif x == 'Building':\n",
    "        return 'By Jumping from (Building)'\n",
    "    elif x == 'Other sites':\n",
    "        return 'By Jumping from (Other sites)'\n",
    "    else:\n",
    "        return x\n",
    "\n",
    "\n",
    "means['means'] = means['means'].apply(lambda x: mean(x))\n",
    "\n",
    "means = means[~means['means'].isin(['Total', 'Total (Jumping)', 'Total (Poison)'])]"
   ]
  },
  {
   "cell_type": "markdown",
   "id": "982be192-d31d-46f8-afda-bb4b13d99b2a",
   "metadata": {},
   "source": [
    "#### Creating New column"
   ]
  },
  {
   "cell_type": "code",
   "execution_count": 11,
   "id": "d9b4ded7-17cd-4efe-a4a1-6c1778876df3",
   "metadata": {},
   "outputs": [],
   "source": [
    "means = means.assign(administration = means['state/ut'].apply(lambda x: administration(x)))"
   ]
  },
  {
   "cell_type": "markdown",
   "id": "722d6b8a-002d-4126-87e5-caa0eeb821ed",
   "metadata": {},
   "source": [
    "#### Rearranging and renaming columns, sorting values and resetting index"
   ]
  },
  {
   "cell_type": "code",
   "execution_count": 12,
   "id": "66a8a149-909a-4943-89ea-7f6545c7b292",
   "metadata": {},
   "outputs": [],
   "source": [
    "means = means[means.columns[col_order]]\n",
    "\n",
    "means = means.sort_values(['state/ut', 'year'], ascending=[True, True])\n",
    "\n",
    "means = means.reset_index(drop=True)\n",
    "\n",
    "means.columns = ['State/UT', 'Administration', 'Year', 'Means adopted', 'Male', 'Female', 'Total']"
   ]
  },
  {
   "cell_type": "markdown",
   "id": "58648727-8ec9-45e7-8d26-b25dcb77854d",
   "metadata": {},
   "source": [
    "# Marital status"
   ]
  },
  {
   "cell_type": "markdown",
   "id": "dd3b8060-b8e5-4dca-b689-92ac0dc9119d",
   "metadata": {
    "tags": []
   },
   "source": [
    "#### Creating dataframes"
   ]
  },
  {
   "cell_type": "code",
   "execution_count": 32,
   "id": "e190220f-179f-456d-b882-4c7764a83451",
   "metadata": {},
   "outputs": [],
   "source": [
    "marital_decade = pd.read_csv(r'D:\\Course\\Python\\Suicide Data analysis\\Raw data\\Social_status.csv')\n",
    "marital_2013 = pd.read_csv(r'D:\\Course\\Python\\Suicide Data analysis\\Raw data\\Social_status_2013.csv')\n",
    "marital_2014 = pd.read_csv(r'D:\\Course\\Python\\Suicide Data analysis\\Raw data\\Social_status_2014.csv', encoding='latin1')"
   ]
  },
  {
   "cell_type": "markdown",
   "id": "8307dc92-1d37-42b7-a798-0472a6ed09b9",
   "metadata": {},
   "source": [
    "#### Keeping required columns"
   ]
  },
  {
   "cell_type": "code",
   "execution_count": 33,
   "id": "f10701a1-e097-4d34-aba4-dfde570dfc05",
   "metadata": {},
   "outputs": [],
   "source": [
    "marital_1 = marital_decade[marital_decade.columns[marital_decade.columns.isin(['STATE/UT', 'Year', 'CAUSE', 'Male', 'Female', 'Total'])]]\n",
    "marital_2 = marital_2013[marital_2013.columns[marital_2013.columns.isin(['STATE/UT', 'Year', 'CAUSE', 'Male', 'Female', 'Total'])]]\n",
    "marital_3 = marital_2014[marital_2014.columns[marital_2014.columns.isin(['States/UTs', 'Year', 'CrimeHead', 'Male', 'Female', 'Transgender', 'Total'])]]"
   ]
  },
  {
   "cell_type": "markdown",
   "id": "8981ca8b-7b33-4304-b7b0-2b80bed5bd5c",
   "metadata": {},
   "source": [
    "#### Removing unwanted columns"
   ]
  },
  {
   "cell_type": "code",
   "execution_count": 34,
   "id": "88b8f0c6-9875-4f8f-979c-eddfa4f8d3f2",
   "metadata": {},
   "outputs": [],
   "source": [
    "marital_3 = marital_3.assign(Totals=marital_3.loc[:, 'Total']-marital_3.loc[:, 'Transgender'])\n",
    "\n",
    "marital_3.drop(['Transgender', 'Total'], axis=1, inplace=True)"
   ]
  },
  {
   "cell_type": "markdown",
   "id": "79978ea8-d262-4fac-ac70-71a17be565f1",
   "metadata": {},
   "source": [
    "#### Standardizing column's name"
   ]
  },
  {
   "cell_type": "code",
   "execution_count": 35,
   "id": "2fd59ca9-d84e-42c8-9393-44fd27355485",
   "metadata": {},
   "outputs": [],
   "source": [
    "marital_cols = ['state/ut', 'year', 'marital', 'male', 'female', 'total']\n",
    "\n",
    "marital_1.columns = marital_cols\n",
    "marital_2.columns = marital_cols\n",
    "marital_3.columns = marital_cols"
   ]
  },
  {
   "cell_type": "markdown",
   "id": "39c2b5c7-b6f1-4b05-9129-fa5f2a623c73",
   "metadata": {},
   "source": [
    "#### Concatenating DataFrames and resetting index"
   ]
  },
  {
   "cell_type": "code",
   "execution_count": 36,
   "id": "7bf3f68f-21d0-4076-850f-91b0b3a6ec22",
   "metadata": {},
   "outputs": [],
   "source": [
    "marital = pd.concat([marital_1, marital_2, marital_3])\n",
    "\n",
    "marital.reset_index(drop=True, inplace=True)"
   ]
  },
  {
   "cell_type": "markdown",
   "id": "24558b68-2019-426e-b442-ea99bae3911b",
   "metadata": {},
   "source": [
    "#### Cleaning 'State/UT' column"
   ]
  },
  {
   "cell_type": "code",
   "execution_count": 37,
   "id": "d69a87db-9272-470e-a244-82c949c8f773",
   "metadata": {},
   "outputs": [],
   "source": [
    "marital['state/ut'] = marital['state/ut'].apply(lambda x: x.capitalize())\n",
    "\n",
    "marital['state/ut'] = marital['state/ut'].apply(lambda x: state(x))\n",
    "\n",
    "marital = marital[~marital['state/ut'].isin(['Total (all india)', 'Total (states)', 'Total (uts)'])]"
   ]
  },
  {
   "cell_type": "markdown",
   "id": "90c37b6b-3998-48c7-b3cb-8f9f1aca70ff",
   "metadata": {},
   "source": [
    "#### Cleaning 'Means' column"
   ]
  },
  {
   "cell_type": "code",
   "execution_count": 38,
   "id": "880d65fd-bb4c-4bc9-a665-af13b0d9e6f1",
   "metadata": {},
   "outputs": [],
   "source": [
    "def marital_status(x):\n",
    "    if x == 'Seperated':\n",
    "        return 'Separated'\n",
    "    elif x == 'Un-Married' or x == 'Never Married':\n",
    "        return 'Unmarried'\n",
    "    elif x == 'Status not known':\n",
    "        return 'Others'\n",
    "    else:\n",
    "        return x\n",
    "\n",
    "\n",
    "marital['marital'] = marital['marital'].apply(lambda x: marital_status(x))\n",
    "\n",
    "marital = marital[~marital['marital'].isin(['Total'])]"
   ]
  },
  {
   "cell_type": "markdown",
   "id": "d2599e71-c520-4bdc-9561-1cf883600537",
   "metadata": {},
   "source": [
    "#### Creating New column"
   ]
  },
  {
   "cell_type": "code",
   "execution_count": 39,
   "id": "22312318-dc3e-48f8-aefe-b7ddc88588d0",
   "metadata": {},
   "outputs": [],
   "source": [
    "marital = marital.assign(administration = marital['state/ut'].apply(lambda x: administration(x)))"
   ]
  },
  {
   "cell_type": "markdown",
   "id": "c1ebfff6-bfbb-4898-997f-b4134f0527bd",
   "metadata": {},
   "source": [
    "#### Rearranging and renaming columns, sorting values and resetting index"
   ]
  },
  {
   "cell_type": "code",
   "execution_count": 40,
   "id": "b4ee77fd-4412-4a6a-90fb-2cd9cbf0f14c",
   "metadata": {},
   "outputs": [],
   "source": [
    "marital = marital[marital.columns[col_order]]\n",
    "\n",
    "marital = marital.sort_values(['state/ut', 'year'], ascending=[True, True])\n",
    "\n",
    "marital = marital.reset_index(drop=True)\n",
    "\n",
    "marital.columns = ['State/UT', 'Administration', 'Year', 'Marital status', 'Male', 'Female', 'Total']"
   ]
  },
  {
   "cell_type": "code",
   "execution_count": null,
   "id": "6a2fa2a9-5eae-44ee-b9c2-41b2aca125c7",
   "metadata": {},
   "outputs": [],
   "source": []
  },
  {
   "cell_type": "markdown",
   "id": "052478a5-bbbe-4377-8ccf-896fc37917c2",
   "metadata": {},
   "source": [
    "# Professional profile"
   ]
  },
  {
   "cell_type": "markdown",
   "id": "dff9e781-37fd-4aee-83af-2de313db97ef",
   "metadata": {},
   "source": [
    "**For this category we ignore year 2014 data. Since, the data categorization in \"Professional profile\" field in 2014 data is vastly different from rest of the data (\"Professional profile\", 2001-2013)**"
   ]
  },
  {
   "cell_type": "markdown",
   "id": "13586ad5-c191-4e7e-a638-55d6ca17d9c2",
   "metadata": {},
   "source": [
    "#### Creating dataframes"
   ]
  },
  {
   "cell_type": "code",
   "execution_count": 41,
   "id": "89c92c7a-ce70-4049-8134-5aec98200fde",
   "metadata": {},
   "outputs": [],
   "source": [
    "profession_decade = pd.read_csv(r'D:\\Course\\Python\\Suicide Data analysis\\Raw data\\Professional_status.csv')\n",
    "profession_2013 = pd.read_csv(r'D:\\Course\\Python\\Suicide Data analysis\\Raw data\\Professional_status_2013.csv')"
   ]
  },
  {
   "cell_type": "markdown",
   "id": "c54f368a-18d6-420f-91db-ca279918bbc1",
   "metadata": {},
   "source": [
    "#### Keeping required columns"
   ]
  },
  {
   "cell_type": "code",
   "execution_count": 42,
   "id": "4e1a1c39-86df-4d68-b19a-8d5cb9b09b89",
   "metadata": {},
   "outputs": [],
   "source": [
    "profession_1 = profession_decade[profession_decade.columns[profession_decade.columns.isin(['STATE/UT', 'Year', 'CAUSE', 'Total Male', 'Total Female', 'Grand Total'])]]\n",
    "profession_2 = profession_2013[profession_2013.columns[profession_2013.columns.isin(['STATE/UT', 'Year', 'CAUSE', 'Total Male', 'Total Female', 'Grand Total'])]]"
   ]
  },
  {
   "cell_type": "markdown",
   "id": "dd5dde33-7000-46a5-a90d-04039249aad1",
   "metadata": {
    "tags": []
   },
   "source": [
    "#### Standardizing column's name"
   ]
  },
  {
   "cell_type": "code",
   "execution_count": 43,
   "id": "2e2bbcb3-af2e-47af-873c-069c6c058c8b",
   "metadata": {},
   "outputs": [],
   "source": [
    "profession_cols = ['state/ut', 'year', 'profession', 'male', 'female', 'total']\n",
    "\n",
    "profession_1.columns = profession_cols\n",
    "profession_2.columns = profession_cols"
   ]
  },
  {
   "cell_type": "markdown",
   "id": "291d1e21-a638-4c9f-a09a-b1f99872afbf",
   "metadata": {},
   "source": [
    "#### Concatenating DataFrames and resetting index"
   ]
  },
  {
   "cell_type": "code",
   "execution_count": 44,
   "id": "49ce5b07-c4e1-4d86-8347-a246e172d314",
   "metadata": {},
   "outputs": [],
   "source": [
    "profession = pd.concat([profession_1, profession_2])\n",
    "\n",
    "profession.reset_index(drop=True, inplace=True)"
   ]
  },
  {
   "cell_type": "markdown",
   "id": "45433b89-32b3-4f70-84e0-1f6ae737294b",
   "metadata": {},
   "source": [
    "#### Cleaning 'State/UT' column"
   ]
  },
  {
   "cell_type": "code",
   "execution_count": 45,
   "id": "f0c82f8b-b935-494e-8cad-dbf78dcb0178",
   "metadata": {},
   "outputs": [],
   "source": [
    "profession['state/ut'] = profession['state/ut'].apply(lambda x: x.capitalize())\n",
    "\n",
    "profession['state/ut'] = profession['state/ut'].apply(lambda x: state(x))\n",
    "\n",
    "profession = profession[~profession['state/ut'].isin(['Total (all india)', 'Total (states)', 'Total (uts)'])]"
   ]
  },
  {
   "cell_type": "markdown",
   "id": "ebd83a3b-5e64-41d4-b73e-50c005b3dc61",
   "metadata": {},
   "source": [
    "#### Cleaning 'Causes' column"
   ]
  },
  {
   "cell_type": "code",
   "execution_count": 46,
   "id": "8d882be3-9ea3-444f-81bd-c93750bd8d51",
   "metadata": {},
   "outputs": [],
   "source": [
    "def professional(x):\n",
    "    if 'Others (Please Specify)' == x:\n",
    "        return 'Others'\n",
    "    else:\n",
    "        return x\n",
    "\n",
    "\n",
    "profession['profession'] = profession['profession'].apply(lambda x: professional(x))\n",
    "\n",
    "profession = profession[~profession['profession'].isin(['Total', 'Total Salaried', 'Total Self-employed'])]"
   ]
  },
  {
   "cell_type": "markdown",
   "id": "043aba73-3df1-4912-a39d-f4bd3599a4dd",
   "metadata": {},
   "source": [
    "#### Creating New column"
   ]
  },
  {
   "cell_type": "code",
   "execution_count": 47,
   "id": "d3e9114f-17cd-4f33-b544-26a94fb870aa",
   "metadata": {},
   "outputs": [],
   "source": [
    "profession = profession.assign(administration = profession['state/ut'].apply(lambda x: administration(x)))"
   ]
  },
  {
   "cell_type": "markdown",
   "id": "b248fedd-6718-4262-a829-ca46805a69b0",
   "metadata": {},
   "source": [
    "#### Rearranging and renaming columns, sorting values and resetting index"
   ]
  },
  {
   "cell_type": "code",
   "execution_count": 48,
   "id": "7d9a8019-ffec-4267-a1f7-4e92b6746a41",
   "metadata": {},
   "outputs": [],
   "source": [
    "profession = profession[profession.columns[col_order]]\n",
    "\n",
    "profession = profession.sort_values(['state/ut', 'year'], ascending=[True, True])\n",
    "\n",
    "profession = profession.reset_index(drop=True)\n",
    "\n",
    "profession.columns = ['State/UT', 'Administration', 'Year', 'Professional profile', 'Male', 'Female', 'Total']"
   ]
  }
 ],
 "metadata": {
  "kernelspec": {
   "display_name": "Python 3 (ipykernel)",
   "language": "python",
   "name": "python3"
  },
  "language_info": {
   "codemirror_mode": {
    "name": "ipython",
    "version": 3
   },
   "file_extension": ".py",
   "mimetype": "text/x-python",
   "name": "python",
   "nbconvert_exporter": "python",
   "pygments_lexer": "ipython3",
   "version": "3.10.2"
  }
 },
 "nbformat": 4,
 "nbformat_minor": 5
}
